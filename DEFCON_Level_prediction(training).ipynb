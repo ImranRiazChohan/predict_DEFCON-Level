{
 "cells": [
  {
   "cell_type": "code",
   "execution_count": 40,
   "metadata": {},
   "outputs": [],
   "source": [
    "#import useful libraries\n",
    "import tensorflow as tf\n",
    "import numpy as np\n",
    "import pandas as pd\n",
    "import matplotlib.pyplot as plt\n",
    "from sklearn.model_selection import train_test_split\n",
    "from tensorflow.keras.layers import Dense,Dropout\n",
    "from tensorflow.keras.models import Sequential\n",
    "from tensorflow.keras.optimizers import Adam\n",
    "from sklearn.preprocessing import LabelEncoder\n",
    "import os\n",
    "from tensorflow.keras import losses\n",
    "from tensorflow.keras import metrics"
   ]
  },
  {
   "cell_type": "code",
   "execution_count": 2,
   "metadata": {},
   "outputs": [],
   "source": [
    "#directries\n",
    "original_dir='home/usama/Desktop/Predict the DEFCON level project'\n",
    "dataset_dir='/home/usama/Desktop/Predict the DEFCON level project/Dataset'"
   ]
  },
  {
   "cell_type": "code",
   "execution_count": 3,
   "metadata": {},
   "outputs": [],
   "source": [
    "#import all cvs folder\n",
    "train_dir=os.path.join(dataset_dir,'train.csv')\n",
    "test_dir=os.path.join(dataset_dir,'test.csv')\n",
    "sample_dir=os.path.join(dataset_dir,'sample_submission.csv')"
   ]
  },
  {
   "cell_type": "code",
   "execution_count": 4,
   "metadata": {},
   "outputs": [],
   "source": [
    "#read all csv files\n",
    "train_data_frame=pd.read_csv(train_dir)\n",
    "test_data_frame=pd.read_csv(test_dir)\n",
    "sample_submission_data_frame=pd.read_csv(sample_dir)"
   ]
  },
  {
   "cell_type": "code",
   "execution_count": 5,
   "metadata": {},
   "outputs": [
    {
     "data": {
      "text/html": [
       "<div>\n",
       "<style scoped>\n",
       "    .dataframe tbody tr th:only-of-type {\n",
       "        vertical-align: middle;\n",
       "    }\n",
       "\n",
       "    .dataframe tbody tr th {\n",
       "        vertical-align: top;\n",
       "    }\n",
       "\n",
       "    .dataframe thead th {\n",
       "        text-align: right;\n",
       "    }\n",
       "</style>\n",
       "<table border=\"1\" class=\"dataframe\">\n",
       "  <thead>\n",
       "    <tr style=\"text-align: right;\">\n",
       "      <th></th>\n",
       "      <th>Allied_Nations</th>\n",
       "      <th>Diplomatic_Meetings_Set</th>\n",
       "      <th>Percent_Of_Forces_Mobilized</th>\n",
       "      <th>Hostile_Nations</th>\n",
       "      <th>Active_Threats</th>\n",
       "      <th>Inactive_Threats</th>\n",
       "      <th>Citizen_Fear_Index</th>\n",
       "      <th>Closest_Threat_Distance(km)</th>\n",
       "      <th>Aircraft_Carriers_Responding</th>\n",
       "      <th>Troops_Mobilized(thousands)</th>\n",
       "      <th>DEFCON_Level</th>\n",
       "      <th>ID</th>\n",
       "    </tr>\n",
       "  </thead>\n",
       "  <tbody>\n",
       "    <tr>\n",
       "      <td>0</td>\n",
       "      <td>16</td>\n",
       "      <td>1</td>\n",
       "      <td>0.67</td>\n",
       "      <td>3</td>\n",
       "      <td>6.0</td>\n",
       "      <td>25.0</td>\n",
       "      <td>0.787812</td>\n",
       "      <td>324.36</td>\n",
       "      <td>1</td>\n",
       "      <td>862400.0</td>\n",
       "      <td>3</td>\n",
       "      <td>7570</td>\n",
       "    </tr>\n",
       "    <tr>\n",
       "      <td>1</td>\n",
       "      <td>8</td>\n",
       "      <td>1</td>\n",
       "      <td>0.11</td>\n",
       "      <td>2</td>\n",
       "      <td>38.0</td>\n",
       "      <td>48.0</td>\n",
       "      <td>0.419236</td>\n",
       "      <td>359.34</td>\n",
       "      <td>0</td>\n",
       "      <td>959200.0</td>\n",
       "      <td>4</td>\n",
       "      <td>12128</td>\n",
       "    </tr>\n",
       "    <tr>\n",
       "      <td>2</td>\n",
       "      <td>9</td>\n",
       "      <td>1</td>\n",
       "      <td>0.49</td>\n",
       "      <td>3</td>\n",
       "      <td>32.0</td>\n",
       "      <td>69.0</td>\n",
       "      <td>0.582232</td>\n",
       "      <td>332.84</td>\n",
       "      <td>1</td>\n",
       "      <td>836000.0</td>\n",
       "      <td>3</td>\n",
       "      <td>2181</td>\n",
       "    </tr>\n",
       "    <tr>\n",
       "      <td>3</td>\n",
       "      <td>7</td>\n",
       "      <td>0</td>\n",
       "      <td>0.30</td>\n",
       "      <td>2</td>\n",
       "      <td>31.0</td>\n",
       "      <td>52.0</td>\n",
       "      <td>0.589574</td>\n",
       "      <td>358.28</td>\n",
       "      <td>1</td>\n",
       "      <td>924000.0</td>\n",
       "      <td>3</td>\n",
       "      <td>5946</td>\n",
       "    </tr>\n",
       "    <tr>\n",
       "      <td>4</td>\n",
       "      <td>8</td>\n",
       "      <td>1</td>\n",
       "      <td>0.12</td>\n",
       "      <td>5</td>\n",
       "      <td>13.0</td>\n",
       "      <td>42.0</td>\n",
       "      <td>0.552863</td>\n",
       "      <td>364.64</td>\n",
       "      <td>0</td>\n",
       "      <td>968000.0</td>\n",
       "      <td>2</td>\n",
       "      <td>9054</td>\n",
       "    </tr>\n",
       "  </tbody>\n",
       "</table>\n",
       "</div>"
      ],
      "text/plain": [
       "   Allied_Nations  Diplomatic_Meetings_Set  Percent_Of_Forces_Mobilized  \\\n",
       "0              16                        1                         0.67   \n",
       "1               8                        1                         0.11   \n",
       "2               9                        1                         0.49   \n",
       "3               7                        0                         0.30   \n",
       "4               8                        1                         0.12   \n",
       "\n",
       "   Hostile_Nations  Active_Threats  Inactive_Threats  Citizen_Fear_Index  \\\n",
       "0                3             6.0              25.0            0.787812   \n",
       "1                2            38.0              48.0            0.419236   \n",
       "2                3            32.0              69.0            0.582232   \n",
       "3                2            31.0              52.0            0.589574   \n",
       "4                5            13.0              42.0            0.552863   \n",
       "\n",
       "   Closest_Threat_Distance(km)  Aircraft_Carriers_Responding  \\\n",
       "0                       324.36                             1   \n",
       "1                       359.34                             0   \n",
       "2                       332.84                             1   \n",
       "3                       358.28                             1   \n",
       "4                       364.64                             0   \n",
       "\n",
       "   Troops_Mobilized(thousands)  DEFCON_Level     ID  \n",
       "0                     862400.0             3   7570  \n",
       "1                     959200.0             4  12128  \n",
       "2                     836000.0             3   2181  \n",
       "3                     924000.0             3   5946  \n",
       "4                     968000.0             2   9054  "
      ]
     },
     "execution_count": 5,
     "metadata": {},
     "output_type": "execute_result"
    }
   ],
   "source": [
    "train_data_frame.head()"
   ]
  },
  {
   "cell_type": "code",
   "execution_count": 6,
   "metadata": {},
   "outputs": [
    {
     "data": {
      "text/html": [
       "<div>\n",
       "<style scoped>\n",
       "    .dataframe tbody tr th:only-of-type {\n",
       "        vertical-align: middle;\n",
       "    }\n",
       "\n",
       "    .dataframe tbody tr th {\n",
       "        vertical-align: top;\n",
       "    }\n",
       "\n",
       "    .dataframe thead th {\n",
       "        text-align: right;\n",
       "    }\n",
       "</style>\n",
       "<table border=\"1\" class=\"dataframe\">\n",
       "  <thead>\n",
       "    <tr style=\"text-align: right;\">\n",
       "      <th></th>\n",
       "      <th>Allied_Nations</th>\n",
       "      <th>Diplomatic_Meetings_Set</th>\n",
       "      <th>Percent_Of_Forces_Mobilized</th>\n",
       "      <th>Hostile_Nations</th>\n",
       "      <th>Active_Threats</th>\n",
       "      <th>Inactive_Threats</th>\n",
       "      <th>Citizen_Fear_Index</th>\n",
       "      <th>Closest_Threat_Distance(km)</th>\n",
       "      <th>Aircraft_Carriers_Responding</th>\n",
       "      <th>Troops_Mobilized(thousands)</th>\n",
       "      <th>DEFCON_Level</th>\n",
       "      <th>ID</th>\n",
       "    </tr>\n",
       "  </thead>\n",
       "  <tbody>\n",
       "    <tr>\n",
       "      <td>count</td>\n",
       "      <td>10000.000000</td>\n",
       "      <td>10000.000000</td>\n",
       "      <td>10000.000000</td>\n",
       "      <td>10000.00000</td>\n",
       "      <td>10000.000000</td>\n",
       "      <td>10000.000000</td>\n",
       "      <td>10000.000000</td>\n",
       "      <td>10000.000000</td>\n",
       "      <td>10000.000000</td>\n",
       "      <td>1.000000e+04</td>\n",
       "      <td>10000.000000</td>\n",
       "      <td>10000.000000</td>\n",
       "    </tr>\n",
       "    <tr>\n",
       "      <td>mean</td>\n",
       "      <td>8.317800</td>\n",
       "      <td>0.524100</td>\n",
       "      <td>0.270548</td>\n",
       "      <td>2.50230</td>\n",
       "      <td>15.754300</td>\n",
       "      <td>46.534600</td>\n",
       "      <td>0.486639</td>\n",
       "      <td>350.885758</td>\n",
       "      <td>0.891300</td>\n",
       "      <td>9.174874e+05</td>\n",
       "      <td>2.616600</td>\n",
       "      <td>6266.554200</td>\n",
       "    </tr>\n",
       "    <tr>\n",
       "      <td>std</td>\n",
       "      <td>1.748802</td>\n",
       "      <td>0.500244</td>\n",
       "      <td>0.196434</td>\n",
       "      <td>1.31178</td>\n",
       "      <td>10.388906</td>\n",
       "      <td>34.012649</td>\n",
       "      <td>0.134552</td>\n",
       "      <td>16.285744</td>\n",
       "      <td>0.329082</td>\n",
       "      <td>9.271764e+04</td>\n",
       "      <td>0.802788</td>\n",
       "      <td>3610.170288</td>\n",
       "    </tr>\n",
       "    <tr>\n",
       "      <td>min</td>\n",
       "      <td>5.000000</td>\n",
       "      <td>0.000000</td>\n",
       "      <td>0.000000</td>\n",
       "      <td>1.00000</td>\n",
       "      <td>1.000000</td>\n",
       "      <td>6.000000</td>\n",
       "      <td>0.000000</td>\n",
       "      <td>290.440000</td>\n",
       "      <td>0.000000</td>\n",
       "      <td>7.392000e+05</td>\n",
       "      <td>1.000000</td>\n",
       "      <td>2.000000</td>\n",
       "    </tr>\n",
       "    <tr>\n",
       "      <td>25%</td>\n",
       "      <td>7.000000</td>\n",
       "      <td>0.000000</td>\n",
       "      <td>0.090000</td>\n",
       "      <td>2.00000</td>\n",
       "      <td>7.000000</td>\n",
       "      <td>21.000000</td>\n",
       "      <td>0.406021</td>\n",
       "      <td>340.260000</td>\n",
       "      <td>1.000000</td>\n",
       "      <td>8.360000e+05</td>\n",
       "      <td>2.000000</td>\n",
       "      <td>3139.750000</td>\n",
       "    </tr>\n",
       "    <tr>\n",
       "      <td>50%</td>\n",
       "      <td>8.000000</td>\n",
       "      <td>1.000000</td>\n",
       "      <td>0.260000</td>\n",
       "      <td>2.00000</td>\n",
       "      <td>13.000000</td>\n",
       "      <td>37.000000</td>\n",
       "      <td>0.486784</td>\n",
       "      <td>350.860000</td>\n",
       "      <td>1.000000</td>\n",
       "      <td>8.976000e+05</td>\n",
       "      <td>3.000000</td>\n",
       "      <td>6280.500000</td>\n",
       "    </tr>\n",
       "    <tr>\n",
       "      <td>75%</td>\n",
       "      <td>9.000000</td>\n",
       "      <td>1.000000</td>\n",
       "      <td>0.430000</td>\n",
       "      <td>3.00000</td>\n",
       "      <td>21.000000</td>\n",
       "      <td>62.000000</td>\n",
       "      <td>0.567548</td>\n",
       "      <td>360.400000</td>\n",
       "      <td>1.000000</td>\n",
       "      <td>9.768000e+05</td>\n",
       "      <td>3.000000</td>\n",
       "      <td>9391.500000</td>\n",
       "    </tr>\n",
       "    <tr>\n",
       "      <td>max</td>\n",
       "      <td>16.000000</td>\n",
       "      <td>2.000000</td>\n",
       "      <td>1.000000</td>\n",
       "      <td>16.00000</td>\n",
       "      <td>72.000000</td>\n",
       "      <td>289.000000</td>\n",
       "      <td>1.000000</td>\n",
       "      <td>425.060000</td>\n",
       "      <td>2.000000</td>\n",
       "      <td>1.311200e+06</td>\n",
       "      <td>5.000000</td>\n",
       "      <td>12500.000000</td>\n",
       "    </tr>\n",
       "  </tbody>\n",
       "</table>\n",
       "</div>"
      ],
      "text/plain": [
       "       Allied_Nations  Diplomatic_Meetings_Set  Percent_Of_Forces_Mobilized  \\\n",
       "count    10000.000000             10000.000000                 10000.000000   \n",
       "mean         8.317800                 0.524100                     0.270548   \n",
       "std          1.748802                 0.500244                     0.196434   \n",
       "min          5.000000                 0.000000                     0.000000   \n",
       "25%          7.000000                 0.000000                     0.090000   \n",
       "50%          8.000000                 1.000000                     0.260000   \n",
       "75%          9.000000                 1.000000                     0.430000   \n",
       "max         16.000000                 2.000000                     1.000000   \n",
       "\n",
       "       Hostile_Nations  Active_Threats  Inactive_Threats  Citizen_Fear_Index  \\\n",
       "count      10000.00000    10000.000000      10000.000000        10000.000000   \n",
       "mean           2.50230       15.754300         46.534600            0.486639   \n",
       "std            1.31178       10.388906         34.012649            0.134552   \n",
       "min            1.00000        1.000000          6.000000            0.000000   \n",
       "25%            2.00000        7.000000         21.000000            0.406021   \n",
       "50%            2.00000       13.000000         37.000000            0.486784   \n",
       "75%            3.00000       21.000000         62.000000            0.567548   \n",
       "max           16.00000       72.000000        289.000000            1.000000   \n",
       "\n",
       "       Closest_Threat_Distance(km)  Aircraft_Carriers_Responding  \\\n",
       "count                 10000.000000                  10000.000000   \n",
       "mean                    350.885758                      0.891300   \n",
       "std                      16.285744                      0.329082   \n",
       "min                     290.440000                      0.000000   \n",
       "25%                     340.260000                      1.000000   \n",
       "50%                     350.860000                      1.000000   \n",
       "75%                     360.400000                      1.000000   \n",
       "max                     425.060000                      2.000000   \n",
       "\n",
       "       Troops_Mobilized(thousands)  DEFCON_Level            ID  \n",
       "count                 1.000000e+04  10000.000000  10000.000000  \n",
       "mean                  9.174874e+05      2.616600   6266.554200  \n",
       "std                   9.271764e+04      0.802788   3610.170288  \n",
       "min                   7.392000e+05      1.000000      2.000000  \n",
       "25%                   8.360000e+05      2.000000   3139.750000  \n",
       "50%                   8.976000e+05      3.000000   6280.500000  \n",
       "75%                   9.768000e+05      3.000000   9391.500000  \n",
       "max                   1.311200e+06      5.000000  12500.000000  "
      ]
     },
     "execution_count": 6,
     "metadata": {},
     "output_type": "execute_result"
    }
   ],
   "source": [
    "train_data_frame.describe()"
   ]
  },
  {
   "cell_type": "code",
   "execution_count": 7,
   "metadata": {},
   "outputs": [
    {
     "name": "stdout",
     "output_type": "stream",
     "text": [
      "(10000, 12)\n",
      "(2500, 11)\n",
      "(10, 2)\n"
     ]
    }
   ],
   "source": [
    "print(train_data_frame.shape)\n",
    "print(test_data_frame.shape)\n",
    "print(sample_submission_data_frame.shape)"
   ]
  },
  {
   "cell_type": "code",
   "execution_count": 15,
   "metadata": {},
   "outputs": [],
   "source": [
    "# train_labels=train_data_frame['DEFCON_Level'].values\n",
    "train_labels=train_data_frame['DEFCON_Level'].values"
   ]
  },
  {
   "cell_type": "code",
   "execution_count": 16,
   "metadata": {},
   "outputs": [
    {
     "data": {
      "text/plain": [
       "array([3, 4, 3, ..., 3, 2, 2])"
      ]
     },
     "execution_count": 16,
     "metadata": {},
     "output_type": "execute_result"
    }
   ],
   "source": [
    "train_labels"
   ]
  },
  {
   "cell_type": "code",
   "execution_count": 18,
   "metadata": {},
   "outputs": [],
   "source": [
    "# train_features=train_data_frame[['Allied_Nations', 'Diplomatic_Meetings_Set',\n",
    "#        'Percent_Of_Forces_Mobilized', 'Hostile_Nations', 'Active_Threats',\n",
    "#        'Inactive_Threats', 'Citizen_Fear_Index', 'Closest_Threat_Distance(km)',\n",
    "#        'Aircraft_Carriers_Responding', 'Troops_Mobilized(thousands)','ID']].values.astype(float)\n",
    "train_features=train_data_frame.iloc[0:,:10].values.astype(float)"
   ]
  },
  {
   "cell_type": "code",
   "execution_count": 19,
   "metadata": {},
   "outputs": [
    {
     "data": {
      "text/plain": [
       "array([[1.6000e+01, 1.0000e+00, 6.7000e-01, ..., 3.2436e+02, 1.0000e+00,\n",
       "        8.6240e+05],\n",
       "       [8.0000e+00, 1.0000e+00, 1.1000e-01, ..., 3.5934e+02, 0.0000e+00,\n",
       "        9.5920e+05],\n",
       "       [9.0000e+00, 1.0000e+00, 4.9000e-01, ..., 3.3284e+02, 1.0000e+00,\n",
       "        8.3600e+05],\n",
       "       ...,\n",
       "       [7.0000e+00, 1.0000e+00, 1.3000e-01, ..., 3.6676e+02, 1.0000e+00,\n",
       "        9.4160e+05],\n",
       "       [1.0000e+01, 1.0000e+00, 4.2000e-01, ..., 3.4874e+02, 1.0000e+00,\n",
       "        8.3600e+05],\n",
       "       [8.0000e+00, 1.0000e+00, 2.4000e-01, ..., 3.5510e+02, 1.0000e+00,\n",
       "        8.6240e+05]])"
      ]
     },
     "execution_count": 19,
     "metadata": {},
     "output_type": "execute_result"
    }
   ],
   "source": [
    "train_features"
   ]
  },
  {
   "cell_type": "code",
   "execution_count": 20,
   "metadata": {},
   "outputs": [
    {
     "name": "stdout",
     "output_type": "stream",
     "text": [
      "<class 'numpy.ndarray'>\n",
      "<class 'numpy.ndarray'>\n"
     ]
    }
   ],
   "source": [
    "print(type(train_features))\n",
    "print(type(train_labels))"
   ]
  },
  {
   "cell_type": "code",
   "execution_count": 21,
   "metadata": {},
   "outputs": [
    {
     "name": "stdout",
     "output_type": "stream",
     "text": [
      "(10000, 10)\n",
      "(10000,)\n"
     ]
    }
   ],
   "source": [
    "print(train_features.shape)\n",
    "print(train_labels.shape)"
   ]
  },
  {
   "cell_type": "code",
   "execution_count": 22,
   "metadata": {},
   "outputs": [],
   "source": [
    "mean=train_features.mean(axis=0)\n",
    "train_features-=mean\n",
    "std=train_features.std(axis=0)\n",
    "train_features/=std"
   ]
  },
  {
   "cell_type": "code",
   "execution_count": 23,
   "metadata": {},
   "outputs": [],
   "source": [
    "# encoded=LabelEncoder()\n",
    "# encoded.fit(train_labels)\n",
    "# labels_encoded=encoded.transform(train_labels)\n",
    "# labels_encoded"
   ]
  },
  {
   "cell_type": "code",
   "execution_count": 24,
   "metadata": {},
   "outputs": [],
   "source": [
    "trainX,testX,trainY,testY=train_test_split(train_features,train_labels,test_size=0.2,shuffle=True)"
   ]
  },
  {
   "cell_type": "code",
   "execution_count": 25,
   "metadata": {},
   "outputs": [
    {
     "name": "stdout",
     "output_type": "stream",
     "text": [
      "trainX:  [[-0.75358204  0.95138302 -1.17372726 ...  0.90969026  0.33032906\n",
      "  -0.97383764]\n",
      " [ 0.96196365 -1.04774079  1.01541653 ... -1.43358052  0.33032906\n",
      "  -0.02467198]\n",
      " [-0.18173347  0.95138302 -0.86826534 ... -0.32703598 -2.70857671\n",
      "  -0.59417138]\n",
      " ...\n",
      " [ 0.39011509 -1.04774079  0.55722364 ...  0.19369086  0.33032906\n",
      "   1.01941025]\n",
      " [-0.18173347 -1.04774079  1.11723717 ...  0.64932684  0.33032906\n",
      "   0.07024459]\n",
      " [ 0.96196365 -1.04774079  1.01541653 ... -0.52230855  0.33032906\n",
      "   1.11432682]]\n",
      "trainY:  [1 2 3 ... 4 2 3]\n",
      "testX:  [[-0.18173347 -1.04774079  0.50631332 ...  1.36532625  0.33032906\n",
      "   1.20924338]\n",
      " [-0.18173347 -1.04774079 -0.05370021 ... -0.97794453  0.33032906\n",
      "   2.06349248]\n",
      " [ 0.96196365  0.95138302 -0.81735502 ... -0.84776282  0.33032906\n",
      "  -0.78400451]\n",
      " ...\n",
      " [-0.75358204  0.95138302 -0.51189309 ...  0.1286      0.33032906\n",
      "   0.73466055]\n",
      " [-1.3254306   0.95138302 -0.61371373 ...  0.51914513  0.33032906\n",
      "   0.73466055]\n",
      " [-0.18173347  0.95138302 -0.46098277 ...  1.36532625  0.33032906\n",
      "  -0.97383764]]\n",
      "testY:  [4 3 2 ... 2 3 2]\n"
     ]
    }
   ],
   "source": [
    "print(\"trainX: \",trainX)\n",
    "print(\"trainY: \",trainY)\n",
    "print(\"testX: \",testX)\n",
    "print(\"testY: \",testY)"
   ]
  },
  {
   "cell_type": "code",
   "execution_count": 54,
   "metadata": {},
   "outputs": [],
   "source": [
    "model=Sequential()\n",
    "model.add(Dense(512,activation='relu',input_shape=(train_features.shape[1],)))\n",
    "model.add(Dense(512,activation='relu'))\n",
    "model.add(Dense(30,activation='relu'))\n",
    "model.add(Dense(6,activation='sigmoid'))\n",
    "model.compile(optimizer='adam',loss=\"sparse_categorical_crossentropy\",metrics=['accuracy'])\n"
   ]
  },
  {
   "cell_type": "code",
   "execution_count": 56,
   "metadata": {},
   "outputs": [
    {
     "name": "stdout",
     "output_type": "stream",
     "text": [
      "Train on 8000 samples, validate on 2000 samples\n",
      "Epoch 1/3\n",
      "8000/8000 [==============================] - 46s 6ms/sample - loss: 1.0873 - acc: 0.4074 - val_loss: 1.0382 - val_acc: 0.4015\n",
      "Epoch 2/3\n",
      "8000/8000 [==============================] - 50s 6ms/sample - loss: 1.0563 - acc: 0.4091 - val_loss: 1.0362 - val_acc: 0.4235\n",
      "Epoch 3/3\n",
      "8000/8000 [==============================] - 47s 6ms/sample - loss: 1.0375 - acc: 0.4940 - val_loss: 1.3116 - val_acc: 0.5500\n"
     ]
    },
    {
     "data": {
      "text/plain": [
       "<tensorflow.python.keras.callbacks.History at 0x7f2ebc64b210>"
      ]
     },
     "execution_count": 56,
     "metadata": {},
     "output_type": "execute_result"
    }
   ],
   "source": [
    "model.fit(trainX,trainY,epochs=3,batch_size=1,validation_data=(testX,testY),verbose=1)"
   ]
  },
  {
   "cell_type": "code",
   "execution_count": null,
   "metadata": {},
   "outputs": [],
   "source": []
  }
 ],
 "metadata": {
  "kernelspec": {
   "display_name": "Python 3",
   "language": "python",
   "name": "python3"
  },
  "language_info": {
   "codemirror_mode": {
    "name": "ipython",
    "version": 3
   },
   "file_extension": ".py",
   "mimetype": "text/x-python",
   "name": "python",
   "nbconvert_exporter": "python",
   "pygments_lexer": "ipython3",
   "version": "3.7.4"
  }
 },
 "nbformat": 4,
 "nbformat_minor": 2
}
