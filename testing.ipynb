{
  "nbformat": 4,
  "nbformat_minor": 0,
  "metadata": {
    "kernelspec": {
      "name": "python3",
      "display_name": "Python 3"
    },
    "language_info": {
      "codemirror_mode": {
        "name": "ipython",
        "version": 3
      },
      "file_extension": ".py",
      "mimetype": "text/x-python",
      "name": "python",
      "nbconvert_exporter": "python",
      "pygments_lexer": "ipython3",
      "version": "3.7.4"
    },
    "colab": {
      "name": "testing.ipynb",
      "provenance": [],
      "private_outputs": true,
      "include_colab_link": true
    },
    "accelerator": "GPU"
  },
  "cells": [
    {
      "cell_type": "markdown",
      "metadata": {
        "id": "view-in-github",
        "colab_type": "text"
      },
      "source": [
        "<a href=\"https://colab.research.google.com/github/ImranRiazChohan/predict_DEFCON-Level/blob/master/testing.ipynb\" target=\"_parent\"><img src=\"https://colab.research.google.com/assets/colab-badge.svg\" alt=\"Open In Colab\"/></a>"
      ]
    },
    {
      "cell_type": "code",
      "metadata": {
        "id": "HyU_3bvHA5Ku",
        "colab_type": "code",
        "colab": {}
      },
      "source": [
        "from tensorflow.keras.models import load_model\n",
        "import numpy as np\n",
        "import pandas as pd\n",
        "import os\n",
        "import matplotlib.pyplot as plt"
      ],
      "execution_count": 0,
      "outputs": []
    },
    {
      "cell_type": "code",
      "metadata": {
        "id": "81aZhSy9A5K4",
        "colab_type": "code",
        "colab": {}
      },
      "source": [
        "model=load_model('DEFCON_model.h5')"
      ],
      "execution_count": 0,
      "outputs": []
    },
    {
      "cell_type": "code",
      "metadata": {
        "id": "kf72J1UcCBpH",
        "colab_type": "code",
        "colab": {}
      },
      "source": [
        "from google.colab import files\n",
        "uploaded=files.upload()"
      ],
      "execution_count": 0,
      "outputs": []
    },
    {
      "cell_type": "code",
      "metadata": {
        "id": "8zMfNYzjA5K-",
        "colab_type": "code",
        "colab": {}
      },
      "source": [
        "original_dir='home/usama/Desktop/Predict the DEFCON level project'\n",
        "dataset_dir='/home/usama/Desktop/Predict the DEFCON level project/Dataset'"
      ],
      "execution_count": 0,
      "outputs": []
    },
    {
      "cell_type": "code",
      "metadata": {
        "id": "jGaV4JeCA5LD",
        "colab_type": "code",
        "colab": {}
      },
      "source": [
        "test_dir=os.path.join(dataset_dir,'test.csv')\n",
        "train_dir=os.path.join(dataset_dir,'train.csv')\n",
        "submission_dir=os.path.join(dataset_dir,'sample_submission.csv')"
      ],
      "execution_count": 0,
      "outputs": []
    },
    {
      "cell_type": "code",
      "metadata": {
        "id": "FoWQ7sPnA5LI",
        "colab_type": "code",
        "colab": {}
      },
      "source": [
        "# test_data_frame=pd.read_csv(test_dir,delimiter=None)\n",
        "# train_data_frame=pd.read_csv(train_dir,delimiter=None)\n",
        "# submission_data_frame=pd.read_csv(submission_dir,delimiter=None)\n",
        "test_data_frame=pd.read_csv('test.csv',delimiter=',')\n",
        "train_data_frame=pd.read_csv('train.csv',delimiter=',')"
      ],
      "execution_count": 0,
      "outputs": []
    },
    {
      "cell_type": "code",
      "metadata": {
        "id": "6tEVKxbzA5LM",
        "colab_type": "code",
        "colab": {}
      },
      "source": [
        "test_data_frame"
      ],
      "execution_count": 0,
      "outputs": []
    },
    {
      "cell_type": "code",
      "metadata": {
        "id": "HQH47Ui1A5LT",
        "colab_type": "code",
        "colab": {}
      },
      "source": [
        "from sklearn.preprocessing import LabelEncoder\n",
        "train_labels=train_data_frame.iloc[0::,10]\n",
        "encoded=LabelEncoder()\n",
        "encoded.fit(train_labels)"
      ],
      "execution_count": 0,
      "outputs": []
    },
    {
      "cell_type": "code",
      "metadata": {
        "id": "GLeZlGckA5LX",
        "colab_type": "code",
        "colab": {}
      },
      "source": [
        "test=test_data_frame.iloc[:,:10]\n",
        "test"
      ],
      "execution_count": 0,
      "outputs": []
    },
    {
      "cell_type": "code",
      "metadata": {
        "id": "NB23YDg7A5Le",
        "colab_type": "code",
        "colab": {}
      },
      "source": [
        "mean=test.mean(axis=0)\n",
        "test-=mean\n",
        "std=test.std(axis=0)\n",
        "test/=std"
      ],
      "execution_count": 0,
      "outputs": []
    },
    {
      "cell_type": "code",
      "metadata": {
        "id": "lkype8K1A5Li",
        "colab_type": "code",
        "colab": {}
      },
      "source": [
        "pred=model.predict_classes(test)"
      ],
      "execution_count": 0,
      "outputs": []
    },
    {
      "cell_type": "code",
      "metadata": {
        "id": "v-nVbn_1A5Ln",
        "colab_type": "code",
        "colab": {}
      },
      "source": [
        "pred"
      ],
      "execution_count": 0,
      "outputs": []
    },
    {
      "cell_type": "code",
      "metadata": {
        "id": "dBZFBreGA5Ls",
        "colab_type": "code",
        "colab": {}
      },
      "source": [
        "result=encoded.inverse_transform(pred)"
      ],
      "execution_count": 0,
      "outputs": []
    },
    {
      "cell_type": "code",
      "metadata": {
        "id": "wMSRLQkIA5Lw",
        "colab_type": "code",
        "colab": {}
      },
      "source": [
        "result"
      ],
      "execution_count": 0,
      "outputs": []
    },
    {
      "cell_type": "code",
      "metadata": {
        "id": "VXrP5mhkA5L1",
        "colab_type": "code",
        "colab": {}
      },
      "source": [
        "result_data=test_data_frame.copy()\n",
        "result_data['DEFCON_Level']=result\n"
      ],
      "execution_count": 0,
      "outputs": []
    },
    {
      "cell_type": "code",
      "metadata": {
        "id": "oQMubaUSA5L5",
        "colab_type": "code",
        "colab": {}
      },
      "source": [
        "result_data"
      ],
      "execution_count": 0,
      "outputs": []
    },
    {
      "cell_type": "code",
      "metadata": {
        "id": "16BglPHTA5L-",
        "colab_type": "code",
        "colab": {}
      },
      "source": [
        "result_data=result_data.iloc[:,-2:]"
      ],
      "execution_count": 0,
      "outputs": []
    },
    {
      "cell_type": "code",
      "metadata": {
        "id": "WUdZEiLGA5ME",
        "colab_type": "code",
        "colab": {}
      },
      "source": [
        "result_data"
      ],
      "execution_count": 0,
      "outputs": []
    },
    {
      "cell_type": "code",
      "metadata": {
        "id": "umnNAVkkA5MI",
        "colab_type": "code",
        "colab": {}
      },
      "source": [
        "result=result_data.to_csv(r\"result.csv\",index=False)"
      ],
      "execution_count": 0,
      "outputs": []
    },
    {
      "cell_type": "code",
      "metadata": {
        "id": "Fte7nqfZA5MM",
        "colab_type": "code",
        "colab": {}
      },
      "source": [
        "pd.read_csv('result.csv')"
      ],
      "execution_count": 0,
      "outputs": []
    },
    {
      "cell_type": "code",
      "metadata": {
        "id": "33aek2pmA5MU",
        "colab_type": "code",
        "colab": {}
      },
      "source": [
        ""
      ],
      "execution_count": 0,
      "outputs": []
    },
    {
      "cell_type": "code",
      "metadata": {
        "id": "xhXQqzgDA5MY",
        "colab_type": "code",
        "colab": {}
      },
      "source": [
        ""
      ],
      "execution_count": 0,
      "outputs": []
    }
  ]
}