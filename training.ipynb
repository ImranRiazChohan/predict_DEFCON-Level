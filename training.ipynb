{
  "nbformat": 4,
  "nbformat_minor": 0,
  "metadata": {
    "colab": {
      "name": "training.ipynb",
      "provenance": [],
      "collapsed_sections": [],
      "toc_visible": true,
      "mount_file_id": "1jbxk0J_jRZ8Fm7kJL0RuuihCcpTNi_N6",
      "authorship_tag": "ABX9TyPcXQ+qjp0Qq4jWzR/6ioRD",
      "include_colab_link": true
    },
    "kernelspec": {
      "name": "python3",
      "display_name": "Python 3"
    },
    "accelerator": "GPU"
  },
  "cells": [
    {
      "cell_type": "markdown",
      "metadata": {
        "id": "view-in-github",
        "colab_type": "text"
      },
      "source": [
        "<a href=\"https://colab.research.google.com/github/ImranRiazChohan/predict_DEFCON-Level/blob/master/training.ipynb\" target=\"_parent\"><img src=\"https://colab.research.google.com/assets/colab-badge.svg\" alt=\"Open In Colab\"/></a>"
      ]
    },
    {
      "cell_type": "code",
      "metadata": {
        "id": "Ora_e5xRV-Ul",
        "colab_type": "code",
        "colab": {}
      },
      "source": [
        "import tensorflow as tf\n",
        "import pandas as pd\n",
        "import numpy as np\n",
        "import matplotlib.pyplot as plt\n",
        "from sklearn.model_selection import train_test_split\n",
        "from tensorflow.keras.layers import Dense,Dropout\n",
        "from tensorflow.keras.optimizers import Adam\n",
        "from sklearn.preprocessing import LabelEncoder\n",
        "from tensorflow.keras import losses,metrics\n",
        "from tensorflow.keras.models import Sequential\n",
        "import os"
      ],
      "execution_count": 0,
      "outputs": []
    },
    {
      "cell_type": "code",
      "metadata": {
        "id": "xJ3J2AwkWCh0",
        "colab_type": "code",
        "colab": {}
      },
      "source": [
        "from google.colab import files\n",
        "uploaded=files.upload()"
      ],
      "execution_count": 0,
      "outputs": []
    },
    {
      "cell_type": "code",
      "metadata": {
        "id": "6qw9pwNXNm_y",
        "colab_type": "code",
        "colab": {}
      },
      "source": [
        "# #for local\n",
        "# original_dir='home/usama/Desktop/Predict the DEFCON level project'\n",
        "# dataset_dir='/home/usama/Desktop/Predict the DEFCON level project/Dataset'"
      ],
      "execution_count": 0,
      "outputs": []
    },
    {
      "cell_type": "code",
      "metadata": {
        "id": "HUFF2tPlNn4T",
        "colab_type": "code",
        "colab": {}
      },
      "source": [
        "# #for local\n",
        "# test_dir=os.path.join(dataset_dir,'test.csv')\n",
        "# train_dir=os.path.join(dataset_dir,'train.csv')\n",
        "# submission_dir=os.path.join(dataset_dir,'sample_submission.csv')"
      ],
      "execution_count": 0,
      "outputs": []
    },
    {
      "cell_type": "code",
      "metadata": {
        "id": "ybcVY2iFWRiH",
        "colab_type": "code",
        "colab": {}
      },
      "source": [
        "train_data_frame=pd.read_csv('train.csv',delimiter=',')\n",
        "test_data_frame=pd.read_csv('test.csv',delimiter=',')\n",
        "sample_data_frame=pd.read_csv('sample_submission.csv',delimiter=',')"
      ],
      "execution_count": 0,
      "outputs": []
    },
    {
      "cell_type": "code",
      "metadata": {
        "id": "Hz51X6lyWcHD",
        "colab_type": "code",
        "colab": {}
      },
      "source": [
        "train_data_frame.head(5)"
      ],
      "execution_count": 0,
      "outputs": []
    },
    {
      "cell_type": "code",
      "metadata": {
        "id": "NDbo4OucWhix",
        "colab_type": "code",
        "colab": {}
      },
      "source": [
        "train_data_frame.tail(5)"
      ],
      "execution_count": 0,
      "outputs": []
    },
    {
      "cell_type": "code",
      "metadata": {
        "id": "055kN1EVWmrD",
        "colab_type": "code",
        "colab": {}
      },
      "source": [
        "train_data_frame.describe()"
      ],
      "execution_count": 0,
      "outputs": []
    },
    {
      "cell_type": "code",
      "metadata": {
        "id": "IDYEbmflWsxW",
        "colab_type": "code",
        "colab": {}
      },
      "source": [
        "train_data_frame.dtypes\n"
      ],
      "execution_count": 0,
      "outputs": []
    },
    {
      "cell_type": "code",
      "metadata": {
        "id": "JH2lyasVWyhu",
        "colab_type": "code",
        "colab": {}
      },
      "source": [
        "import matplotlib.pyplot as plt\n",
        "plt.hist(train_data_frame['DEFCON_Level'])\n",
        "plt.show()"
      ],
      "execution_count": 0,
      "outputs": []
    },
    {
      "cell_type": "code",
      "metadata": {
        "id": "7pFFMbSdXw27",
        "colab_type": "code",
        "colab": {}
      },
      "source": [
        "dfl5=train_data_frame[train_data_frame['DEFCON_Level']==5]\n",
        "dfl5.head()"
      ],
      "execution_count": 0,
      "outputs": []
    },
    {
      "cell_type": "code",
      "metadata": {
        "id": "sDnRqHw5YZMQ",
        "colab_type": "code",
        "colab": {}
      },
      "source": [
        "dfl4=train_data_frame[train_data_frame['DEFCON_Level']==4]\n",
        "dfl4.head(5)"
      ],
      "execution_count": 0,
      "outputs": []
    },
    {
      "cell_type": "code",
      "metadata": {
        "id": "TRdLXC0rY8Pa",
        "colab_type": "code",
        "colab": {}
      },
      "source": [
        "dfl3=train_data_frame[train_data_frame['DEFCON_Level']==3]\n",
        "dfl3.head(5)"
      ],
      "execution_count": 0,
      "outputs": []
    },
    {
      "cell_type": "code",
      "metadata": {
        "id": "mHOQC21CZpxT",
        "colab_type": "code",
        "colab": {}
      },
      "source": [
        "dfl2=train_data_frame[train_data_frame['DEFCON_Level']==2]\n",
        "dfl2.head(5)"
      ],
      "execution_count": 0,
      "outputs": []
    },
    {
      "cell_type": "code",
      "metadata": {
        "id": "XB5MP6eBa7Fe",
        "colab_type": "code",
        "colab": {}
      },
      "source": [
        "train_data_frame.count()"
      ],
      "execution_count": 0,
      "outputs": []
    },
    {
      "cell_type": "code",
      "metadata": {
        "id": "zgkkbWRPmlU-",
        "colab_type": "code",
        "colab": {}
      },
      "source": [
        "train_data_frame.DEFCON_Level.unique()"
      ],
      "execution_count": 0,
      "outputs": []
    },
    {
      "cell_type": "code",
      "metadata": {
        "id": "3XCdB4RMbkWT",
        "colab_type": "code",
        "colab": {}
      },
      "source": [
        "train_features=train_data_frame.iloc[0:,:10].astype(float)\n",
        "train_labels=train_data_frame.iloc[0::,10]"
      ],
      "execution_count": 0,
      "outputs": []
    },
    {
      "cell_type": "code",
      "metadata": {
        "id": "UkxpdJdycVAT",
        "colab_type": "code",
        "colab": {}
      },
      "source": [
        "mean=train_features.mean(axis=0)\n",
        "train_features-=mean\n",
        "std=train_features.std(axis=0)\n",
        "train_features/=std"
      ],
      "execution_count": 0,
      "outputs": []
    },
    {
      "cell_type": "code",
      "metadata": {
        "id": "eoUplx4QcZEu",
        "colab_type": "code",
        "colab": {}
      },
      "source": [
        "encoded=LabelEncoder()\n",
        "encoded.fit(train_labels)\n",
        "labels_encoded=encoded.transform(train_labels)\n",
        "labels_encoded"
      ],
      "execution_count": 0,
      "outputs": []
    },
    {
      "cell_type": "code",
      "metadata": {
        "id": "P7xFt3o7ccLk",
        "colab_type": "code",
        "colab": {}
      },
      "source": [
        "trainx,testx,trainy,testy=train_test_split(train_features,labels_encoded,test_size=0.25,random_state=7)"
      ],
      "execution_count": 0,
      "outputs": []
    },
    {
      "cell_type": "code",
      "metadata": {
        "id": "JaWMamSmdIYN",
        "colab_type": "code",
        "colab": {}
      },
      "source": [
        "# def build_model():\n",
        "#     model=Sequential()\n",
        "#     model.add(Dense(512,activation='relu',input_shape=(train_features.shape[1],)))\n",
        "#     model.add(Dense(64,activation=\"relu\"))\n",
        "#     model.add(Dense(6,activation=\"sigmoid\"))\n",
        "#     model.compile(optimizer=Adam(lr=1e-4),loss=\"sparse_categorical_crossentropy\",metrics=['accuracy'])\n",
        "#     return model"
      ],
      "execution_count": 0,
      "outputs": []
    },
    {
      "cell_type": "code",
      "metadata": {
        "id": "kaFXOnPUHles",
        "colab_type": "code",
        "colab": {}
      },
      "source": [
        "def build_model():\n",
        "    model=Sequential()\n",
        "    model.add(Dense(512,activation='relu',input_shape=(train_features.shape[1],)))\n",
        "    model.add(Dense(128,activation=\"relu\"))\n",
        "    model.add(Dense(128,activation=\"relu\"))\n",
        "    model.add(Dense(10,activation=\"relu\"))\n",
        "    model.add(Dense(6,activation=\"sigmoid\"))\n",
        "    model.compile(optimizer=Adam(lr=1e-4),loss=\"sparse_categorical_crossentropy\",metrics=['accuracy'])\n",
        "    return model"
      ],
      "execution_count": 0,
      "outputs": []
    },
    {
      "cell_type": "code",
      "metadata": {
        "id": "GkgtPaO0qMPi",
        "colab_type": "code",
        "colab": {}
      },
      "source": [
        "model=build_model()"
      ],
      "execution_count": 0,
      "outputs": []
    },
    {
      "cell_type": "code",
      "metadata": {
        "id": "WAWU7HUYqOwz",
        "colab_type": "code",
        "colab": {}
      },
      "source": [
        "model.fit(trainx,trainy,epochs=30,batch_size=5,verbose=1,validation_data=(testx,testy))"
      ],
      "execution_count": 0,
      "outputs": []
    },
    {
      "cell_type": "code",
      "metadata": {
        "id": "twdZ75_LqR2A",
        "colab_type": "code",
        "colab": {}
      },
      "source": [
        "model.save(\"DEFCON_model.h5\")"
      ],
      "execution_count": 0,
      "outputs": []
    },
    {
      "cell_type": "code",
      "metadata": {
        "id": "NOLbL_asu8TR",
        "colab_type": "code",
        "colab": {}
      },
      "source": [
        ""
      ],
      "execution_count": 0,
      "outputs": []
    }
  ]
}